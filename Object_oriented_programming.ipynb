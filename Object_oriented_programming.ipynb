{
  "nbformat": 4,
  "nbformat_minor": 0,
  "metadata": {
    "colab": {
      "provenance": [],
      "authorship_tag": "ABX9TyMMDIdSQD46K9zid2uPhuTR",
      "include_colab_link": true
    },
    "kernelspec": {
      "name": "python3",
      "display_name": "Python 3"
    },
    "language_info": {
      "name": "python"
    }
  },
  "cells": [
    {
      "cell_type": "markdown",
      "metadata": {
        "id": "view-in-github",
        "colab_type": "text"
      },
      "source": [
        "<a href=\"https://colab.research.google.com/github/ElizabethWaithera/EDA/blob/main/Object_oriented_programming.ipynb\" target=\"_parent\"><img src=\"https://colab.research.google.com/assets/colab-badge.svg\" alt=\"Open In Colab\"/></a>"
      ]
    },
    {
      "cell_type": "markdown",
      "source": [
        "# first class"
      ],
      "metadata": {
        "id": "acSsBadsorhJ"
      }
    },
    {
      "cell_type": "code",
      "execution_count": null,
      "metadata": {
        "colab": {
          "base_uri": "https://localhost:8080/"
        },
        "id": "wEKy-vtKnTwg",
        "outputId": "364d086a-1a88-4959-e4b8-a53aae744a4e"
      },
      "outputs": [
        {
          "output_type": "execute_result",
          "data": {
            "text/plain": [
              "450"
            ]
          },
          "metadata": {},
          "execution_count": 1
        }
      ],
      "source": [
        "class student:\n",
        "  def __init__ (self, name, adm_num, marks):\n",
        "    self.name = name\n",
        "    self.adm_num = adm_num\n",
        "    self.marks = marks\n",
        "\n",
        "student1 = student('liz', 10113, 450)\n",
        "student1.marks"
      ]
    },
    {
      "cell_type": "code",
      "source": [
        "class product:\n",
        "  def __init__(self, product_name, brand_name, model_name, price):\n",
        "    self.product_name = product_name\n",
        "    self.brand_name = brand_name\n",
        "    self.model_name = model_name\n",
        "    self.price = price\n",
        "\n",
        "sugar = product('Mumias', 'Mama', 'Mama202', 250)\n",
        "sugar.price"
      ],
      "metadata": {
        "colab": {
          "base_uri": "https://localhost:8080/"
        },
        "id": "uP35LGTHpMkm",
        "outputId": "51a030e6-e7b2-4adf-8be8-f83c819eda07"
      },
      "execution_count": null,
      "outputs": [
        {
          "output_type": "execute_result",
          "data": {
            "text/plain": [
              "250"
            ]
          },
          "metadata": {},
          "execution_count": 2
        }
      ]
    },
    {
      "cell_type": "markdown",
      "source": [
        "# methods in classes"
      ],
      "metadata": {
        "id": "ZUyEArt5tGJ7"
      }
    },
    {
      "cell_type": "code",
      "source": [
        "class student:\n",
        "  def __init__(self,name,age,marks):\n",
        "    self.name = name\n",
        "    self.age = age\n",
        "    self.marks = marks\n",
        "\n",
        "  def result (self):\n",
        "    if self.age < 18:\n",
        "      return 'underage'\n",
        "    else:\n",
        "       return 'passed'\n",
        "\n",
        "s1 = student('liz', 20, 500)\n",
        "s1.result()"
      ],
      "metadata": {
        "colab": {
          "base_uri": "https://localhost:8080/",
          "height": 35
        },
        "id": "9RaZcMA9rjwj",
        "outputId": "da920d3e-70bf-4287-f95f-cd97c9e2baf5"
      },
      "execution_count": null,
      "outputs": [
        {
          "output_type": "execute_result",
          "data": {
            "text/plain": [
              "'passed'"
            ],
            "application/vnd.google.colaboratory.intrinsic+json": {
              "type": "string"
            }
          },
          "metadata": {},
          "execution_count": 5
        }
      ]
    },
    {
      "cell_type": "code",
      "source": [
        "class student:\n",
        "  def __init__(self, name, marks):\n",
        "    self.name = name\n",
        "    self.marks = marks\n",
        "\n",
        "  def result (self):\n",
        "    if self.marks >= 500:\n",
        "      return 'Pass'\n",
        "    else:\n",
        "      return 'Fail'\n",
        "\n",
        "s1 = student('liz',500)\n",
        "s2 = student('arm',400)\n",
        "s3 = student('ben',600)\n",
        "s4 = student('cat',200)\n",
        "s5 = student('dan',500)\n",
        "s6 = student('fan',100)\n",
        "\n",
        "student_names = [s1,s2,s3,s4,s5,s6]\n",
        "\n",
        "passStudents = []\n",
        "failStudents = []\n",
        "Students_results = {'passed': passStudents, 'failed': failStudents}\n",
        "\n",
        "\n",
        "for x in student_names:\n",
        "  result = x.result()\n",
        "\n",
        "  if result == 'Pass':\n",
        "    passStudents.append(x.name)\n",
        "  else:\n",
        "    failStudents.append(x.name)\n",
        "\n",
        "Students_results\n",
        "\n",
        "\n",
        "\n",
        "\n",
        "\n"
      ],
      "metadata": {
        "colab": {
          "base_uri": "https://localhost:8080/"
        },
        "id": "ajEdz0KTvmvx",
        "outputId": "0860109e-d31f-4744-ea09-68069f7e1361"
      },
      "execution_count": null,
      "outputs": [
        {
          "output_type": "execute_result",
          "data": {
            "text/plain": [
              "{'passed': ['liz', 'ben', 'dan'], 'failed': ['arm', 'cat', 'fan']}"
            ]
          },
          "metadata": {},
          "execution_count": 9
        }
      ]
    },
    {
      "cell_type": "code",
      "source": [
        "class product:\n",
        "  def __init__(self,productName,price):\n",
        "    self.productName = productName\n",
        "    self.price = price\n",
        "\n",
        "  def discount(self, discountvalue):\n",
        "    discountAmount = (self.price/100)*discountvalue\n",
        "    finalAmount = self.price - discountAmount\n",
        "    return int(finalAmount)\n",
        "\n",
        "s1 = product('lenovo', 15000)\n",
        "s2 = product('Samsung', 17000)\n",
        "s3 = product('apple', 20000)\n",
        "s4 = product('Huwawei', 21000)\n",
        "\n",
        "product_name = [s1,s2,s3,s4]\n",
        "\n",
        "for product in product_name:\n",
        "  discountedPrice = product.discount(10)\n",
        "  print (f\"original_price {product.productName}: {product.price}, discounted price: {discountedPrice}\")\n",
        "\n",
        "\n"
      ],
      "metadata": {
        "colab": {
          "base_uri": "https://localhost:8080/"
        },
        "id": "jMC-LEuKygbr",
        "outputId": "6e0b4859-266f-48a2-868a-d0abe92680ec"
      },
      "execution_count": null,
      "outputs": [
        {
          "output_type": "stream",
          "name": "stdout",
          "text": [
            "original_price lenovo: 15000, discounted price: 13500\n",
            "original_price Samsung: 17000, discounted price: 15300\n",
            "original_price apple: 20000, discounted price: 18000\n",
            "original_price Huwawei: 21000, discounted price: 18900\n"
          ]
        }
      ]
    },
    {
      "cell_type": "code",
      "source": [
        "class student:\n",
        "  total_marks =1000\n",
        "  def __init__(self,name,age, marks):\n",
        "    self.name = name\n",
        "    self.age = age\n",
        "    self.marks = marks\n",
        "    self.total_marks = student.total_marks\n",
        "\n",
        "s1= student('liz', 20, 378)\n",
        "s1.total_marks"
      ],
      "metadata": {
        "colab": {
          "base_uri": "https://localhost:8080/"
        },
        "id": "v7LvXwfR45Mm",
        "outputId": "3dbbf7fe-5c5f-4ea5-b23d-40ebbdc0514e"
      },
      "execution_count": null,
      "outputs": [
        {
          "output_type": "execute_result",
          "data": {
            "text/plain": [
              "1000"
            ]
          },
          "metadata": {},
          "execution_count": 20
        }
      ]
    },
    {
      "cell_type": "code",
      "source": [],
      "metadata": {
        "id": "l2Z7ujOG89ms"
      },
      "execution_count": null,
      "outputs": []
    }
  ]
}